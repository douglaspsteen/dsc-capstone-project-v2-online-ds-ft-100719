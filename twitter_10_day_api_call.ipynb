{
 "cells": [
  {
   "cell_type": "markdown",
   "metadata": {},
   "source": [
    "# Obtain American Airlines Tweets Data from Twitter API (10-days)"
   ]
  },
  {
   "cell_type": "code",
   "execution_count": 1,
   "metadata": {},
   "outputs": [
    {
     "name": "stdout",
     "output_type": "stream",
     "text": [
      "Requirement already satisfied: tweepy in c:\\users\\dougl\\anaconda3\\envs\\learn-env\\lib\\site-packages (3.8.0)\n",
      "Requirement already satisfied: PySocks>=1.5.7 in c:\\users\\dougl\\anaconda3\\envs\\learn-env\\lib\\site-packages (from tweepy) (1.7.1)\n",
      "Requirement already satisfied: requests>=2.11.1 in c:\\users\\dougl\\anaconda3\\envs\\learn-env\\lib\\site-packages (from tweepy) (2.22.0)\n",
      "Requirement already satisfied: requests-oauthlib>=0.7.0 in c:\\users\\dougl\\anaconda3\\envs\\learn-env\\lib\\site-packages (from tweepy) (1.3.0)\n",
      "Requirement already satisfied: six>=1.10.0 in c:\\users\\dougl\\anaconda3\\envs\\learn-env\\lib\\site-packages (from tweepy) (1.12.0)\n",
      "Requirement already satisfied: urllib3!=1.25.0,!=1.25.1,<1.26,>=1.21.1 in c:\\users\\dougl\\anaconda3\\envs\\learn-env\\lib\\site-packages (from requests>=2.11.1->tweepy) (1.24.2)\n",
      "Requirement already satisfied: certifi>=2017.4.17 in c:\\users\\dougl\\anaconda3\\envs\\learn-env\\lib\\site-packages (from requests>=2.11.1->tweepy) (2019.11.28)\n",
      "Requirement already satisfied: idna<2.9,>=2.5 in c:\\users\\dougl\\anaconda3\\envs\\learn-env\\lib\\site-packages (from requests>=2.11.1->tweepy) (2.8)\n",
      "Requirement already satisfied: chardet<3.1.0,>=3.0.2 in c:\\users\\dougl\\anaconda3\\envs\\learn-env\\lib\\site-packages (from requests>=2.11.1->tweepy) (3.0.4)\n",
      "Requirement already satisfied: oauthlib>=3.0.0 in c:\\users\\dougl\\anaconda3\\envs\\learn-env\\lib\\site-packages (from requests-oauthlib>=0.7.0->tweepy) (3.1.0)\n",
      "Note: you may need to restart the kernel to use updated packages.\n"
     ]
    }
   ],
   "source": [
    "# pip install tweepy"
   ]
  },
  {
   "cell_type": "code",
   "execution_count": 8,
   "metadata": {},
   "outputs": [],
   "source": [
    "# Import tweepy library to assist Twitter API calls\n",
    "\n",
    "import tweepy as tw\n",
    "import pandas as pd\n",
    "import json"
   ]
  },
  {
   "cell_type": "code",
   "execution_count": 9,
   "metadata": {},
   "outputs": [],
   "source": [
    "# Function to retrieve api keys\n",
    "\n",
    "def get_keys(path):\n",
    "    with open(path) as f:\n",
    "        return json.load(f)"
   ]
  },
  {
   "cell_type": "code",
   "execution_count": 10,
   "metadata": {},
   "outputs": [],
   "source": [
    "# Retrieve api_key from local stored location\n",
    "\n",
    "keys = get_keys(\"/Users/dougl/.secret/twitter_api.json\")\n",
    "\n",
    "api_key = keys['api_key']\n",
    "api_secret_key = keys['api_secret_key']"
   ]
  },
  {
   "cell_type": "code",
   "execution_count": 11,
   "metadata": {},
   "outputs": [],
   "source": [
    "# Instantiate authorization object\n",
    "\n",
    "auth = tw.OAuthHandler(api_key, api_secret_key)\n",
    "\n",
    "# Instantiate API object\n",
    "\n",
    "api = tw.API(auth_handler=auth, wait_on_rate_limit=True)"
   ]
  },
  {
   "cell_type": "code",
   "execution_count": 215,
   "metadata": {},
   "outputs": [],
   "source": [
    "# Define the search term and the date_since date as variables\n",
    "\n",
    "search_words = \"#americanairlines OR #americanair OR @AmericanAir exclude:replies exclude:retweets\"\n",
    "\n",
    "date_since = \"2020-02-14\"\n",
    "\n",
    "date_until = \"2020-02-25\""
   ]
  },
  {
   "cell_type": "code",
   "execution_count": 216,
   "metadata": {},
   "outputs": [
    {
     "data": {
      "text/plain": [
       "<tweepy.cursor.ItemIterator at 0x226b1adb550>"
      ]
     },
     "execution_count": 216,
     "metadata": {},
     "output_type": "execute_result"
    }
   ],
   "source": [
    "# Grab all tweets for one day (2-23-2020)\n",
    "\n",
    "# tweets = tw.Cursor(api.search,\n",
    "#               q=search_words,\n",
    "#               lang=\"en\",\n",
    "#               since=date_since, until=date_until, tweet_mode='extended').items()\n",
    "# tweets"
   ]
  },
  {
   "cell_type": "code",
   "execution_count": 217,
   "metadata": {},
   "outputs": [],
   "source": [
    "iD = []\n",
    "datetime = []\n",
    "text = []\n",
    "retweets = []\n",
    "\n",
    "for tweet in tweets:\n",
    "    iD.append(tweet.id)\n",
    "    datetime.append(tweet.created_at)\n",
    "    text.append(tweet.full_text)\n",
    "    retweets.append(tweet.retweet_count)"
   ]
  },
  {
   "cell_type": "code",
   "execution_count": 218,
   "metadata": {},
   "outputs": [
    {
     "data": {
      "text/html": [
       "<div>\n",
       "<style scoped>\n",
       "    .dataframe tbody tr th:only-of-type {\n",
       "        vertical-align: middle;\n",
       "    }\n",
       "\n",
       "    .dataframe tbody tr th {\n",
       "        vertical-align: top;\n",
       "    }\n",
       "\n",
       "    .dataframe thead th {\n",
       "        text-align: right;\n",
       "    }\n",
       "</style>\n",
       "<table border=\"1\" class=\"dataframe\">\n",
       "  <thead>\n",
       "    <tr style=\"text-align: right;\">\n",
       "      <th></th>\n",
       "      <th>id</th>\n",
       "      <th>datetime</th>\n",
       "      <th>text</th>\n",
       "      <th>retweets</th>\n",
       "    </tr>\n",
       "  </thead>\n",
       "  <tbody>\n",
       "    <tr>\n",
       "      <td>0</td>\n",
       "      <td>1228467715192610816</td>\n",
       "      <td>2020-02-14 23:55:01</td>\n",
       "      <td>Why do I wind up on @AmericanAir flight that a...</td>\n",
       "      <td>1</td>\n",
       "    </tr>\n",
       "    <tr>\n",
       "      <td>1</td>\n",
       "      <td>1228462892053385218</td>\n",
       "      <td>2020-02-14 23:35:51</td>\n",
       "      <td>#1Job Should Be Enough for *all* airline worke...</td>\n",
       "      <td>0</td>\n",
       "    </tr>\n",
       "    <tr>\n",
       "      <td>2</td>\n",
       "      <td>1228457573466152968</td>\n",
       "      <td>2020-02-14 23:14:43</td>\n",
       "      <td>#1Job Should Be Enough for *all* airline worke...</td>\n",
       "      <td>0</td>\n",
       "    </tr>\n",
       "  </tbody>\n",
       "</table>\n",
       "</div>"
      ],
      "text/plain": [
       "                    id            datetime  \\\n",
       "0  1228467715192610816 2020-02-14 23:55:01   \n",
       "1  1228462892053385218 2020-02-14 23:35:51   \n",
       "2  1228457573466152968 2020-02-14 23:14:43   \n",
       "\n",
       "                                                text  retweets  \n",
       "0  Why do I wind up on @AmericanAir flight that a...         1  \n",
       "1  #1Job Should Be Enough for *all* airline worke...         0  \n",
       "2  #1Job Should Be Enough for *all* airline worke...         0  "
      ]
     },
     "execution_count": 218,
     "metadata": {},
     "output_type": "execute_result"
    }
   ],
   "source": [
    "df = pd.DataFrame([])\n",
    "df = pd.concat([df, pd.Series(iD), pd.Series(datetime), pd.Series(text), pd.Series(retweets)], axis=1)\n",
    "df.columns = ['id', 'datetime', 'text', 'retweets']\n",
    "df"
   ]
  },
  {
   "cell_type": "code",
   "execution_count": 214,
   "metadata": {},
   "outputs": [
    {
     "data": {
      "text/plain": [
       "3"
      ]
     },
     "execution_count": 214,
     "metadata": {},
     "output_type": "execute_result"
    }
   ],
   "source": [
    "len(df)"
   ]
  },
  {
   "cell_type": "code",
   "execution_count": 208,
   "metadata": {},
   "outputs": [
    {
     "data": {
      "text/plain": [
       "0       2708\n",
       "1        365\n",
       "2         97\n",
       "3         60\n",
       "4         26\n",
       "5         19\n",
       "8         11\n",
       "6         10\n",
       "10         7\n",
       "9          6\n",
       "7          6\n",
       "20         2\n",
       "18         2\n",
       "12         2\n",
       "11         2\n",
       "34         2\n",
       "13         2\n",
       "15         2\n",
       "23         2\n",
       "28         2\n",
       "24         1\n",
       "57         1\n",
       "40         1\n",
       "46         1\n",
       "64         1\n",
       "556        1\n",
       "41         1\n",
       "21         1\n",
       "25         1\n",
       "27         1\n",
       "29         1\n",
       "37         1\n",
       "3367       1\n",
       "Name: retweets, dtype: int64"
      ]
     },
     "execution_count": 208,
     "metadata": {},
     "output_type": "execute_result"
    }
   ],
   "source": [
    "df.retweets.value_counts()"
   ]
  },
  {
   "cell_type": "code",
   "execution_count": 209,
   "metadata": {},
   "outputs": [],
   "source": [
    "# Convert final_df to a .csv file, and save in current directory\n",
    "\n",
    "df.to_csv('twitter_10_days.csv', index=False)"
   ]
  }
 ],
 "metadata": {
  "kernelspec": {
   "display_name": "learn-env",
   "language": "python",
   "name": "learn-env"
  },
  "language_info": {
   "codemirror_mode": {
    "name": "ipython",
    "version": 3
   },
   "file_extension": ".py",
   "mimetype": "text/x-python",
   "name": "python",
   "nbconvert_exporter": "python",
   "pygments_lexer": "ipython3",
   "version": "3.6.9"
  },
  "toc": {
   "base_numbering": 1,
   "nav_menu": {},
   "number_sections": true,
   "sideBar": true,
   "skip_h1_title": true,
   "title_cell": "Table of Contents",
   "title_sidebar": "Contents",
   "toc_cell": false,
   "toc_position": {},
   "toc_section_display": true,
   "toc_window_display": true
  },
  "varInspector": {
   "cols": {
    "lenName": 16,
    "lenType": 16,
    "lenVar": 40
   },
   "kernels_config": {
    "python": {
     "delete_cmd_postfix": "",
     "delete_cmd_prefix": "del ",
     "library": "var_list.py",
     "varRefreshCmd": "print(var_dic_list())"
    },
    "r": {
     "delete_cmd_postfix": ") ",
     "delete_cmd_prefix": "rm(",
     "library": "var_list.r",
     "varRefreshCmd": "cat(var_dic_list()) "
    }
   },
   "types_to_exclude": [
    "module",
    "function",
    "builtin_function_or_method",
    "instance",
    "_Feature"
   ],
   "window_display": false
  },
  "widgets": {
   "application/vnd.jupyter.widget-state+json": {
    "state": {},
    "version_major": 2,
    "version_minor": 0
   }
  }
 },
 "nbformat": 4,
 "nbformat_minor": 2
}
